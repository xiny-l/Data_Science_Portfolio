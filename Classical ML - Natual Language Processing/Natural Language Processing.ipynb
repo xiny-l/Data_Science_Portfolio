{
 "cells": [
  {
   "cell_type": "markdown",
   "metadata": {
    "id": "CsciWCcwSvTS"
   },
   "source": [
    "# **Applied Machine Learning Homework 5**\n",
    "**Due 02 Dec 2023 (Tuesday) 11:59PM EST**"
   ]
  },
  {
   "cell_type": "markdown",
   "metadata": {
    "id": "ES5E7BQBTnnd"
   },
   "source": [
    "Instructions\n",
    "\n",
    "1) Please push the .ipynb and .pdf to Github Classroom prior to the deadline, .py file is optional (not needed).\n",
    "\n",
    "2) Please include your Name and UNI below."
   ]
  },
  {
   "cell_type": "markdown",
   "metadata": {
    "id": "D0SIMW0OTr9m"
   },
   "source": [
    "## Name : Xinyu Li\n",
    "\n",
    "## UNI : XL3228"
   ]
  },
  {
   "cell_type": "markdown",
   "metadata": {
    "id": "sNOxhZujV_jK"
   },
   "source": [
    "## Convolutional Neural Network\n",
    "\n",
    "In this part of the homework, we will build and train a classical convolutional neural network on the CIFAR Dataset"
   ]
  },
  {
   "cell_type": "code",
   "execution_count": 1,
   "metadata": {
    "id": "I6NNBcucXClM"
   },
   "outputs": [],
   "source": [
    "from tensorflow.keras.models import Sequential\n",
    "from tensorflow.keras.layers import Dense, Conv2D, MaxPool2D, Flatten, MaxPooling2D, BatchNormalization\n",
    "import pandas as pd\n",
    "from tensorflow.keras.utils import to_categorical\n",
    "from tensorflow.keras.datasets import cifar10\n",
    "import matplotlib.pyplot as plt\n",
    "from tensorflow.keras.layers import Dropout"
   ]
  },
  {
   "cell_type": "code",
   "execution_count": 2,
   "metadata": {
    "colab": {
     "base_uri": "https://localhost:8080/"
    },
    "id": "Jd4jHLzTYuZm",
    "outputId": "a1d77378-d18c-4a17-c437-998e3f66876b"
   },
   "outputs": [
    {
     "name": "stdout",
     "output_type": "stream",
     "text": [
      "x_dev: (50000, 32, 32, 3),y_dev: (50000, 1),x_test: (10000, 32, 32, 3),y_test: (10000, 1)\n"
     ]
    }
   ],
   "source": [
    "(x_dev, y_dev), (x_test, y_test) = cifar10.load_data()\n",
    "print(\"x_dev: {},y_dev: {},x_test: {},y_test: {}\".format(x_dev.shape, y_dev.shape, x_test.shape, y_test.shape))\n",
    "\n",
    "x_dev, x_test = x_dev.astype('float32'), x_test.astype('float32')\n",
    "x_dev = x_dev/255.0\n",
    "x_test = x_test/255.0\n",
    "\n",
    "\n",
    "from sklearn.model_selection import train_test_split\n",
    "\n",
    "X_train, X_val, y_train, y_val = train_test_split(x_dev, y_dev,test_size = 0.2, random_state = 42)"
   ]
  },
  {
   "cell_type": "markdown",
   "metadata": {
    "id": "bDPnZzg0XDQ9"
   },
   "source": [
    "3.1 We will be implementing the one of the first CNN models put forward by Yann LeCunn, which is commonly refered to as LeNet-5. The network has the following layers:\n",
    "\n",
    "1) 2D convolutional layer with 6 filters, 5x5 kernel, stride of 1 padded to yield the same size as input, ReLU activation\n",
    "\n",
    "2) Maxpooling layer of 2x2\n",
    "\n",
    "3) 2D convolutional layer with 16 filters, 5x5 kernel, 0 padding, ReLU activation\n",
    "\n",
    "4) Maxpooling layer of 2x2\n",
    "\n",
    "5) 2D convolutional layer with 120 filters, 5x5 kernel, ReLU activation. Note that this layer has 120 output channels (filters), and each channel has only 1 number. The output of this layer is just a vector with 120 units!\n",
    "\n",
    "6) A fully connected layer with 84 units, ReLU activation\n",
    "\n",
    "7) The output layer where each unit respresents the probability of image being in that category. What activation function should you use in this layer? (You should know this)"
   ]
  },
  {
   "cell_type": "code",
   "execution_count": 3,
   "metadata": {
    "id": "ok_DyDq_XJwh"
   },
   "outputs": [],
   "source": [
    "#Your code here\n",
    "# Create the LeNet-5 model\n",
    "cnn = Sequential()\n",
    "cnn.add(Conv2D(6, kernel_size = (5, 5), strides=(1, 1), padding='same', activation='relu', input_shape=(32, 32, 3), name='conv_1'))\n",
    "cnn.add(MaxPooling2D(pool_size=(2, 2), name='maxpool_1'))\n",
    "cnn.add(Conv2D(16, kernel_size = (5, 5), strides=(1, 1), padding='valid', activation='relu', name='conv_2'))\n",
    "cnn.add(MaxPooling2D(pool_size=(2, 2), name='maxpool_2'))\n",
    "cnn.add(Conv2D(120, kernel_size = (5, 5), activation='relu', name='conv_3'))\n",
    "cnn.add(Flatten())\n",
    "cnn.add(Dense(84, activation='relu', name='dense_1'))\n",
    "cnn.add(Dense(10, activation='softmax', name='output'))\n",
    "cnn.compile(optimizer='adam', loss='categorical_crossentropy', metrics=['accuracy'])"
   ]
  },
  {
   "cell_type": "markdown",
   "metadata": {
    "id": "zKkSBBDwXNT1"
   },
   "source": [
    "3.2 Report the model summary"
   ]
  },
  {
   "cell_type": "code",
   "execution_count": 4,
   "metadata": {
    "colab": {
     "base_uri": "https://localhost:8080/"
    },
    "id": "sJlJnEcUXQY-",
    "outputId": "ef140f78-3d0a-4543-b29b-fa56edbf8f5a"
   },
   "outputs": [
    {
     "name": "stdout",
     "output_type": "stream",
     "text": [
      "Model: \"sequential\"\n",
      "_________________________________________________________________\n",
      " Layer (type)                Output Shape              Param #   \n",
      "=================================================================\n",
      " conv_1 (Conv2D)             (None, 32, 32, 6)         456       \n",
      "                                                                 \n",
      " maxpool_1 (MaxPooling2D)    (None, 16, 16, 6)         0         \n",
      "                                                                 \n",
      " conv_2 (Conv2D)             (None, 12, 12, 16)        2416      \n",
      "                                                                 \n",
      " maxpool_2 (MaxPooling2D)    (None, 6, 6, 16)          0         \n",
      "                                                                 \n",
      " conv_3 (Conv2D)             (None, 2, 2, 120)         48120     \n",
      "                                                                 \n",
      " flatten (Flatten)           (None, 480)               0         \n",
      "                                                                 \n",
      " dense_1 (Dense)             (None, 84)                40404     \n",
      "                                                                 \n",
      " output (Dense)              (None, 10)                850       \n",
      "                                                                 \n",
      "=================================================================\n",
      "Total params: 92246 (360.34 KB)\n",
      "Trainable params: 92246 (360.34 KB)\n",
      "Non-trainable params: 0 (0.00 Byte)\n",
      "_________________________________________________________________\n"
     ]
    }
   ],
   "source": [
    "#Your code here\n",
    "cnn.summary()"
   ]
  },
  {
   "cell_type": "markdown",
   "metadata": {
    "id": "sjMqpYrkXXO0"
   },
   "source": [
    "###3.3 Model Training\n",
    "\n",
    "1) Train the model for 20 epochs. In each epoch, record the loss and metric (chosen in part 3) scores for both train and validation sets.\n",
    "\n",
    "2) Plot separate plots for:\n",
    "\n",
    "* displaying train vs validation loss over each epoch\n",
    "* displaying train vs validation accuracy over each epoch\n",
    "\n",
    "3) Report the model performance on the test set. Feel free to tune the hyperparameters such as batch size and optimizers to achieve better performance."
   ]
  },
  {
   "cell_type": "code",
   "execution_count": 5,
   "metadata": {
    "colab": {
     "base_uri": "https://localhost:8080/"
    },
    "id": "Cyk188RpXYGs",
    "outputId": "7ad30f7e-bdef-4f6f-84cc-3cce530dbf85"
   },
   "outputs": [
    {
     "name": "stdout",
     "output_type": "stream",
     "text": [
      "Epoch 1/20\n",
      "625/625 [==============================] - 53s 83ms/step - loss: 1.6699 - accuracy: 0.3911 - val_loss: 1.4920 - val_accuracy: 0.4540\n",
      "Epoch 2/20\n",
      "625/625 [==============================] - 48s 76ms/step - loss: 1.3796 - accuracy: 0.5034 - val_loss: 1.3601 - val_accuracy: 0.5155\n",
      "Epoch 3/20\n",
      "625/625 [==============================] - 47s 75ms/step - loss: 1.2539 - accuracy: 0.5510 - val_loss: 1.2253 - val_accuracy: 0.5676\n",
      "Epoch 4/20\n",
      "625/625 [==============================] - 49s 79ms/step - loss: 1.1662 - accuracy: 0.5846 - val_loss: 1.2232 - val_accuracy: 0.5686\n",
      "Epoch 5/20\n",
      "625/625 [==============================] - 49s 78ms/step - loss: 1.0956 - accuracy: 0.6116 - val_loss: 1.1505 - val_accuracy: 0.5978\n",
      "Epoch 6/20\n",
      "625/625 [==============================] - 47s 75ms/step - loss: 1.0348 - accuracy: 0.6373 - val_loss: 1.1780 - val_accuracy: 0.5919\n",
      "Epoch 7/20\n",
      "625/625 [==============================] - 48s 77ms/step - loss: 0.9867 - accuracy: 0.6512 - val_loss: 1.0736 - val_accuracy: 0.6293\n",
      "Epoch 8/20\n",
      "625/625 [==============================] - 48s 76ms/step - loss: 0.9397 - accuracy: 0.6684 - val_loss: 1.0493 - val_accuracy: 0.6331\n",
      "Epoch 9/20\n",
      "625/625 [==============================] - 45s 72ms/step - loss: 0.8971 - accuracy: 0.6834 - val_loss: 1.0988 - val_accuracy: 0.6206\n",
      "Epoch 10/20\n",
      "625/625 [==============================] - 49s 78ms/step - loss: 0.8634 - accuracy: 0.6944 - val_loss: 1.0838 - val_accuracy: 0.6273\n",
      "Epoch 11/20\n",
      "625/625 [==============================] - 45s 72ms/step - loss: 0.8267 - accuracy: 0.7089 - val_loss: 1.0656 - val_accuracy: 0.6380\n",
      "Epoch 12/20\n",
      "625/625 [==============================] - 45s 73ms/step - loss: 0.7805 - accuracy: 0.7253 - val_loss: 1.0838 - val_accuracy: 0.6378\n",
      "Epoch 13/20\n",
      "625/625 [==============================] - 45s 72ms/step - loss: 0.7510 - accuracy: 0.7365 - val_loss: 1.0632 - val_accuracy: 0.6443\n",
      "Epoch 14/20\n",
      "625/625 [==============================] - 46s 73ms/step - loss: 0.7210 - accuracy: 0.7452 - val_loss: 1.1047 - val_accuracy: 0.6311\n",
      "Epoch 15/20\n",
      "625/625 [==============================] - 44s 70ms/step - loss: 0.6912 - accuracy: 0.7550 - val_loss: 1.0779 - val_accuracy: 0.6460\n",
      "Epoch 16/20\n",
      "625/625 [==============================] - 45s 72ms/step - loss: 0.6604 - accuracy: 0.7661 - val_loss: 1.1109 - val_accuracy: 0.6432\n",
      "Epoch 17/20\n",
      "625/625 [==============================] - 47s 75ms/step - loss: 0.6345 - accuracy: 0.7732 - val_loss: 1.1390 - val_accuracy: 0.6390\n",
      "Epoch 18/20\n",
      "625/625 [==============================] - 46s 74ms/step - loss: 0.6093 - accuracy: 0.7831 - val_loss: 1.1862 - val_accuracy: 0.6289\n",
      "Epoch 19/20\n",
      "625/625 [==============================] - 45s 72ms/step - loss: 0.5745 - accuracy: 0.7969 - val_loss: 1.1889 - val_accuracy: 0.6335\n",
      "Epoch 20/20\n",
      "625/625 [==============================] - 44s 71ms/step - loss: 0.5477 - accuracy: 0.8055 - val_loss: 1.2404 - val_accuracy: 0.6272\n"
     ]
    }
   ],
   "source": [
    "#Your code here\n",
    "y_train_one_hot = to_categorical(y_train, 10)\n",
    "y_val_one_hot = to_categorical(y_val, 10)\n",
    "cnn_history = cnn.fit(X_train, y_train_one_hot, epochs=20,validation_data=(X_val, y_val_one_hot), batch_size=64)"
   ]
  },
  {
   "cell_type": "code",
   "execution_count": 6,
   "metadata": {
    "colab": {
     "base_uri": "https://localhost:8080/",
     "height": 607
    },
    "id": "a5O3q8Z-YQ6V",
    "outputId": "b7604c23-2eeb-4b34-9c87-dc4a552c07ca"
   },
   "outputs": [
    {
     "data": {
      "image/png": "[encoded data removed]",
      "text/plain": [
       "<Figure size 1200x600 with 2 Axes>"
      ]
     },
     "metadata": {},
     "output_type": "display_data"
    }
   ],
   "source": [
    "fig, axes = plt.subplots(nrows=1, ncols=2, figsize=(12, 6))\n",
    "axes[0].plot(cnn_history.history['loss'], label='Train')\n",
    "axes[0].plot(cnn_history.history['val_loss'], label='Validation')\n",
    "axes[0].set_title('Loss VS Epoch - Original Model')\n",
    "axes[0].set_xlabel('Epoch')\n",
    "axes[0].set_ylabel('Loss')\n",
    "axes[0].legend()\n",
    "axes[1].plot(cnn_history.history['accuracy'], label='Train')\n",
    "axes[1].plot(cnn_history.history['val_accuracy'], label='Validation')\n",
    "axes[1].set_title('Accuracy VS Epoch - Original Model')\n",
    "axes[1].set_xlabel('Epoch')\n",
    "axes[1].set_ylabel('Accuracy')\n",
    "axes[1].legend()\n",
    "plt.tight_layout()\n",
    "plt.show()"
   ]
  },
  {
   "cell_type": "code",
   "execution_count": 7,
   "metadata": {
    "colab": {
     "base_uri": "https://localhost:8080/"
    },
    "id": "jS4GnYarXgy_",
    "outputId": "b796bf5b-127d-4005-f9fa-7ad10d318b83"
   },
   "outputs": [
    {
     "name": "stdout",
     "output_type": "stream",
     "text": [
      "313/313 [==============================] - 4s 13ms/step - loss: 1.2495 - accuracy: 0.6205\n",
      "Test Loss: 1.2495\n",
      "Test Accuracy: 0.6205\n"
     ]
    }
   ],
   "source": [
    "#Your code here\n",
    "test_loss, test_accuracy = cnn.evaluate(x_test, to_categorical(y_test, 10))\n",
    "print(f'Test Loss: {test_loss:.4f}')\n",
    "print(f'Test Accuracy: {test_accuracy:.4f}')"
   ]
  },
  {
   "cell_type": "code",
   "execution_count": 8,
   "metadata": {
    "colab": {
     "base_uri": "https://localhost:8080/"
    },
    "id": "1EB0nTBGmRAB",
    "outputId": "4c96950c-6abe-4c5d-829a-509b754b3693"
   },
   "outputs": [
    {
     "name": "stdout",
     "output_type": "stream",
     "text": [
      "cnn with batch_size 64 and optimizer: adam\n",
      "Epoch 1/20\n",
      "625/625 [==============================] - 47s 73ms/step - loss: 1.6937 - accuracy: 0.3711 - val_loss: 1.5079 - val_accuracy: 0.4396\n",
      "Epoch 2/20\n",
      "625/625 [==============================] - 45s 72ms/step - loss: 1.4086 - accuracy: 0.4866 - val_loss: 1.3535 - val_accuracy: 0.5028\n",
      "Epoch 3/20\n",
      "625/625 [==============================] - 45s 72ms/step - loss: 1.2812 - accuracy: 0.5391 - val_loss: 1.2863 - val_accuracy: 0.5372\n",
      "Epoch 4/20\n",
      "625/625 [==============================] - 46s 73ms/step - loss: 1.1862 - accuracy: 0.5775 - val_loss: 1.1800 - val_accuracy: 0.5718\n",
      "Epoch 5/20\n",
      "625/625 [==============================] - 45s 72ms/step - loss: 1.1182 - accuracy: 0.6002 - val_loss: 1.1545 - val_accuracy: 0.5822\n",
      "Epoch 6/20\n",
      "625/625 [==============================] - 46s 73ms/step - loss: 1.0542 - accuracy: 0.6265 - val_loss: 1.1442 - val_accuracy: 0.5971\n",
      "Epoch 7/20\n",
      "625/625 [==============================] - 46s 74ms/step - loss: 0.9979 - accuracy: 0.6463 - val_loss: 1.0815 - val_accuracy: 0.6193\n",
      "Epoch 8/20\n",
      "625/625 [==============================] - 44s 71ms/step - loss: 0.9490 - accuracy: 0.6638 - val_loss: 1.1194 - val_accuracy: 0.6049\n",
      "Epoch 9/20\n",
      "625/625 [==============================] - 44s 70ms/step - loss: 0.9010 - accuracy: 0.6801 - val_loss: 1.0792 - val_accuracy: 0.6225\n",
      "Epoch 10/20\n",
      "625/625 [==============================] - 45s 72ms/step - loss: 0.8626 - accuracy: 0.6955 - val_loss: 1.1004 - val_accuracy: 0.6202\n",
      "Epoch 11/20\n",
      "625/625 [==============================] - 46s 74ms/step - loss: 0.8227 - accuracy: 0.7089 - val_loss: 1.0832 - val_accuracy: 0.6298\n",
      "Epoch 12/20\n",
      "625/625 [==============================] - 46s 73ms/step - loss: 0.7778 - accuracy: 0.7238 - val_loss: 1.0989 - val_accuracy: 0.6253\n",
      "Epoch 13/20\n",
      "625/625 [==============================] - 44s 70ms/step - loss: 0.7427 - accuracy: 0.7368 - val_loss: 1.1179 - val_accuracy: 0.6304\n",
      "Epoch 14/20\n",
      "625/625 [==============================] - 46s 73ms/step - loss: 0.7068 - accuracy: 0.7497 - val_loss: 1.1141 - val_accuracy: 0.6344\n",
      "Epoch 15/20\n",
      "625/625 [==============================] - 44s 71ms/step - loss: 0.6709 - accuracy: 0.7629 - val_loss: 1.1308 - val_accuracy: 0.6298\n",
      "Epoch 16/20\n",
      "625/625 [==============================] - 45s 72ms/step - loss: 0.6412 - accuracy: 0.7739 - val_loss: 1.1738 - val_accuracy: 0.6273\n",
      "Epoch 17/20\n",
      "625/625 [==============================] - 45s 72ms/step - loss: 0.6105 - accuracy: 0.7832 - val_loss: 1.1737 - val_accuracy: 0.6321\n",
      "Epoch 18/20\n",
      "625/625 [==============================] - 43s 69ms/step - loss: 0.5768 - accuracy: 0.7965 - val_loss: 1.2614 - val_accuracy: 0.6193\n",
      "Epoch 19/20\n",
      "625/625 [==============================] - 44s 70ms/step - loss: 0.5448 - accuracy: 0.8094 - val_loss: 1.2960 - val_accuracy: 0.6268\n",
      "Epoch 20/20\n",
      "625/625 [==============================] - 45s 72ms/step - loss: 0.5192 - accuracy: 0.8146 - val_loss: 1.3219 - val_accuracy: 0.6209\n",
      "cnn with batch_size 64 and optimizer: sgd\n",
      "Epoch 1/20\n",
      "625/625 [==============================] - 49s 76ms/step - loss: 2.2715 - accuracy: 0.1533 - val_loss: 2.1517 - val_accuracy: 0.2404\n",
      "Epoch 2/20\n",
      "625/625 [==============================] - 44s 70ms/step - loss: 1.9855 - accuracy: 0.2822 - val_loss: 1.8301 - val_accuracy: 0.3537\n",
      "Epoch 3/20\n",
      "625/625 [==============================] - 44s 71ms/step - loss: 1.7462 - accuracy: 0.3786 - val_loss: 1.6017 - val_accuracy: 0.4330\n",
      "Epoch 4/20\n",
      "625/625 [==============================] - 45s 72ms/step - loss: 1.5835 - accuracy: 0.4330 - val_loss: 1.5253 - val_accuracy: 0.4473\n",
      "Epoch 5/20\n",
      "625/625 [==============================] - 44s 71ms/step - loss: 1.4985 - accuracy: 0.4641 - val_loss: 1.4635 - val_accuracy: 0.4733\n",
      "Epoch 6/20\n",
      "625/625 [==============================] - 46s 74ms/step - loss: 1.4412 - accuracy: 0.4875 - val_loss: 1.4131 - val_accuracy: 0.5037\n",
      "Epoch 7/20\n",
      "625/625 [==============================] - 44s 71ms/step - loss: 1.3916 - accuracy: 0.5052 - val_loss: 1.3775 - val_accuracy: 0.5132\n",
      "Epoch 8/20\n",
      "625/625 [==============================] - 47s 75ms/step - loss: 1.3494 - accuracy: 0.5224 - val_loss: 1.4565 - val_accuracy: 0.4818\n",
      "Epoch 9/20\n",
      "625/625 [==============================] - 46s 73ms/step - loss: 1.3168 - accuracy: 0.5355 - val_loss: 1.3134 - val_accuracy: 0.5373\n",
      "Epoch 10/20\n",
      "625/625 [==============================] - 47s 75ms/step - loss: 1.2816 - accuracy: 0.5475 - val_loss: 1.3119 - val_accuracy: 0.5358\n",
      "Epoch 11/20\n",
      "625/625 [==============================] - 45s 72ms/step - loss: 1.2484 - accuracy: 0.5603 - val_loss: 1.2997 - val_accuracy: 0.5364\n",
      "Epoch 12/20\n",
      "625/625 [==============================] - 46s 74ms/step - loss: 1.2216 - accuracy: 0.5719 - val_loss: 1.2690 - val_accuracy: 0.5482\n",
      "Epoch 13/20\n",
      "625/625 [==============================] - 46s 74ms/step - loss: 1.1958 - accuracy: 0.5805 - val_loss: 1.2390 - val_accuracy: 0.5656\n",
      "Epoch 14/20\n",
      "625/625 [==============================] - 54s 86ms/step - loss: 1.1666 - accuracy: 0.5906 - val_loss: 1.2653 - val_accuracy: 0.5563\n",
      "Epoch 15/20\n",
      "625/625 [==============================] - 47s 75ms/step - loss: 1.1441 - accuracy: 0.5998 - val_loss: 1.2753 - val_accuracy: 0.5460\n",
      "Epoch 16/20\n",
      "625/625 [==============================] - 45s 72ms/step - loss: 1.1215 - accuracy: 0.6091 - val_loss: 1.2203 - val_accuracy: 0.5677\n",
      "Epoch 17/20\n",
      "625/625 [==============================] - 45s 72ms/step - loss: 1.0952 - accuracy: 0.6161 - val_loss: 1.2097 - val_accuracy: 0.5776\n",
      "Epoch 18/20\n",
      "625/625 [==============================] - 45s 72ms/step - loss: 1.0746 - accuracy: 0.6227 - val_loss: 1.2110 - val_accuracy: 0.5794\n",
      "Epoch 19/20\n",
      "625/625 [==============================] - 46s 73ms/step - loss: 1.0515 - accuracy: 0.6339 - val_loss: 1.1594 - val_accuracy: 0.5929\n",
      "Epoch 20/20\n",
      "625/625 [==============================] - 45s 72ms/step - loss: 1.0292 - accuracy: 0.6415 - val_loss: 1.2561 - val_accuracy: 0.5646\n",
      "cnn with batch_size 128 and optimizer: adam\n",
      "Epoch 1/20\n",
      "313/313 [==============================] - 44s 136ms/step - loss: 1.7763 - accuracy: 0.3490 - val_loss: 1.5026 - val_accuracy: 0.4493\n",
      "Epoch 2/20\n",
      "313/313 [==============================] - 42s 135ms/step - loss: 1.4579 - accuracy: 0.4730 - val_loss: 1.4201 - val_accuracy: 0.4919\n",
      "Epoch 3/20\n",
      "313/313 [==============================] - 42s 134ms/step - loss: 1.3589 - accuracy: 0.5165 - val_loss: 1.3614 - val_accuracy: 0.5129\n",
      "Epoch 4/20\n",
      "313/313 [==============================] - 39s 126ms/step - loss: 1.2889 - accuracy: 0.5418 - val_loss: 1.2752 - val_accuracy: 0.5484\n",
      "Epoch 5/20\n",
      "313/313 [==============================] - 40s 129ms/step - loss: 1.2297 - accuracy: 0.5580 - val_loss: 1.2473 - val_accuracy: 0.5627\n",
      "Epoch 6/20\n",
      "313/313 [==============================] - 39s 124ms/step - loss: 1.1732 - accuracy: 0.5819 - val_loss: 1.1903 - val_accuracy: 0.5814\n",
      "Epoch 7/20\n",
      "313/313 [==============================] - 39s 125ms/step - loss: 1.1379 - accuracy: 0.5961 - val_loss: 1.1837 - val_accuracy: 0.5916\n",
      "Epoch 8/20\n",
      "313/313 [==============================] - 40s 129ms/step - loss: 1.0938 - accuracy: 0.6098 - val_loss: 1.1599 - val_accuracy: 0.5878\n",
      "Epoch 9/20\n",
      "313/313 [==============================] - 39s 124ms/step - loss: 1.0564 - accuracy: 0.6264 - val_loss: 1.1129 - val_accuracy: 0.6116\n",
      "Epoch 10/20\n",
      "313/313 [==============================] - 41s 130ms/step - loss: 1.0216 - accuracy: 0.6380 - val_loss: 1.1337 - val_accuracy: 0.6020\n",
      "Epoch 11/20\n",
      "313/313 [==============================] - 41s 131ms/step - loss: 0.9872 - accuracy: 0.6494 - val_loss: 1.1012 - val_accuracy: 0.6153\n",
      "Epoch 12/20\n",
      "313/313 [==============================] - 41s 132ms/step - loss: 0.9585 - accuracy: 0.6600 - val_loss: 1.1061 - val_accuracy: 0.6211\n",
      "Epoch 13/20\n",
      "313/313 [==============================] - 41s 132ms/step - loss: 0.9258 - accuracy: 0.6701 - val_loss: 1.1375 - val_accuracy: 0.6059\n",
      "Epoch 14/20\n",
      "313/313 [==============================] - 41s 130ms/step - loss: 0.9044 - accuracy: 0.6813 - val_loss: 1.0902 - val_accuracy: 0.6216\n",
      "Epoch 15/20\n",
      "313/313 [==============================] - 40s 127ms/step - loss: 0.8736 - accuracy: 0.6933 - val_loss: 1.0557 - val_accuracy: 0.6388\n",
      "Epoch 16/20\n",
      "313/313 [==============================] - 40s 128ms/step - loss: 0.8600 - accuracy: 0.6984 - val_loss: 1.0842 - val_accuracy: 0.6300\n",
      "Epoch 17/20\n",
      "313/313 [==============================] - 41s 131ms/step - loss: 0.8197 - accuracy: 0.7123 - val_loss: 1.1040 - val_accuracy: 0.6220\n",
      "Epoch 18/20\n",
      "313/313 [==============================] - 39s 124ms/step - loss: 0.8055 - accuracy: 0.7172 - val_loss: 1.0860 - val_accuracy: 0.6347\n",
      "Epoch 19/20\n",
      "313/313 [==============================] - 42s 135ms/step - loss: 0.7793 - accuracy: 0.7279 - val_loss: 1.0856 - val_accuracy: 0.6324\n",
      "Epoch 20/20\n",
      "313/313 [==============================] - 40s 128ms/step - loss: 0.7601 - accuracy: 0.7319 - val_loss: 1.1034 - val_accuracy: 0.6302\n",
      "cnn with batch_size 128 and optimizer: sgd\n",
      "Epoch 1/20\n",
      "313/313 [==============================] - 43s 135ms/step - loss: 2.2993 - accuracy: 0.1196 - val_loss: 2.2959 - val_accuracy: 0.1395\n",
      "Epoch 2/20\n",
      "313/313 [==============================] - 42s 134ms/step - loss: 2.2885 - accuracy: 0.1677 - val_loss: 2.2795 - val_accuracy: 0.1729\n",
      "Epoch 3/20\n",
      "313/313 [==============================] - 42s 134ms/step - loss: 2.2530 - accuracy: 0.2102 - val_loss: 2.2246 - val_accuracy: 0.2163\n",
      "Epoch 4/20\n",
      "313/313 [==============================] - 41s 132ms/step - loss: 2.1181 - accuracy: 0.2450 - val_loss: 1.9900 - val_accuracy: 0.2938\n",
      "Epoch 5/20\n",
      "313/313 [==============================] - 41s 131ms/step - loss: 1.9099 - accuracy: 0.3181 - val_loss: 1.7891 - val_accuracy: 0.3630\n",
      "Epoch 6/20\n",
      "313/313 [==============================] - 43s 136ms/step - loss: 1.7740 - accuracy: 0.3626 - val_loss: 1.8517 - val_accuracy: 0.3324\n",
      "Epoch 7/20\n",
      "313/313 [==============================] - 42s 134ms/step - loss: 1.6977 - accuracy: 0.3867 - val_loss: 1.6704 - val_accuracy: 0.3808\n",
      "Epoch 8/20\n",
      "313/313 [==============================] - 42s 135ms/step - loss: 1.6399 - accuracy: 0.4090 - val_loss: 1.6264 - val_accuracy: 0.4159\n",
      "Epoch 9/20\n",
      "313/313 [==============================] - 40s 128ms/step - loss: 1.5890 - accuracy: 0.4279 - val_loss: 1.7326 - val_accuracy: 0.3772\n",
      "Epoch 10/20\n",
      "313/313 [==============================] - 40s 128ms/step - loss: 1.5363 - accuracy: 0.4476 - val_loss: 1.7230 - val_accuracy: 0.3760\n",
      "Epoch 11/20\n",
      "313/313 [==============================] - 43s 136ms/step - loss: 1.4953 - accuracy: 0.4647 - val_loss: 1.4617 - val_accuracy: 0.4644\n",
      "Epoch 12/20\n",
      "313/313 [==============================] - 43s 139ms/step - loss: 1.4521 - accuracy: 0.4786 - val_loss: 1.5255 - val_accuracy: 0.4600\n",
      "Epoch 13/20\n",
      "313/313 [==============================] - 40s 127ms/step - loss: 1.4213 - accuracy: 0.4932 - val_loss: 1.4641 - val_accuracy: 0.4568\n",
      "Epoch 14/20\n",
      "313/313 [==============================] - 42s 134ms/step - loss: 1.3939 - accuracy: 0.5012 - val_loss: 1.4521 - val_accuracy: 0.4761\n",
      "Epoch 15/20\n",
      "313/313 [==============================] - 42s 133ms/step - loss: 1.3676 - accuracy: 0.5116 - val_loss: 1.3945 - val_accuracy: 0.5040\n",
      "Epoch 16/20\n",
      "313/313 [==============================] - 39s 125ms/step - loss: 1.3373 - accuracy: 0.5209 - val_loss: 1.3334 - val_accuracy: 0.5211\n",
      "Epoch 17/20\n",
      "313/313 [==============================] - 40s 128ms/step - loss: 1.3138 - accuracy: 0.5303 - val_loss: 1.3276 - val_accuracy: 0.5238\n",
      "Epoch 18/20\n",
      "313/313 [==============================] - 39s 123ms/step - loss: 1.2920 - accuracy: 0.5390 - val_loss: 1.3566 - val_accuracy: 0.5208\n",
      "Epoch 19/20\n",
      "313/313 [==============================] - 41s 132ms/step - loss: 1.2718 - accuracy: 0.5485 - val_loss: 1.2917 - val_accuracy: 0.5397\n",
      "Epoch 20/20\n",
      "313/313 [==============================] - 42s 134ms/step - loss: 1.2496 - accuracy: 0.5554 - val_loss: 1.4044 - val_accuracy: 0.5009\n",
      "display validation results\n",
      "(('batch_size', 64), ('optimizer', 'adam'), ('validation accuracy', 0.6208999752998352))\n",
      "(('batch_size', 64), ('optimizer', 'sgd'), ('validation accuracy', 0.5645999908447266))\n",
      "(('batch_size', 128), ('optimizer', 'adam'), ('validation accuracy', 0.6302000284194946))\n",
      "(('batch_size', 128), ('optimizer', 'sgd'), ('validation accuracy', 0.5008999705314636))\n",
      "\n",
      "best parameter combination: (('batch_size', 128), ('optimizer', 'adam'), ('validation accuracy', 0.6302000284194946))\n"
     ]
    }
   ],
   "source": [
    "#hyperparameter tuning\n",
    "results = list()\n",
    "for size in [64, 128]:\n",
    "  for opt in ['adam', 'sgd']:\n",
    "    print(f\"cnn with batch_size {size} and optimizer: {opt}\")\n",
    "    cnn = Sequential()\n",
    "    cnn.add(Conv2D(6, kernel_size = (5, 5), strides=(1, 1), padding='same', activation='relu', input_shape=(32, 32, 3), name='conv_1'))\n",
    "    cnn.add(MaxPooling2D(pool_size=(2, 2), name='maxpool_1'))\n",
    "    cnn.add(Conv2D(16, kernel_size = (5, 5), strides=(1, 1), padding='valid', activation='relu', name='conv_2'))\n",
    "    cnn.add(MaxPooling2D(pool_size=(2, 2), name='maxpool_2'))\n",
    "    cnn.add(Conv2D(120, kernel_size = (5, 5), activation='relu', name='conv_3'))\n",
    "    cnn.add(Flatten())\n",
    "    cnn.add(Dense(84, activation='relu', name='dense_1'))\n",
    "    cnn.add(Dense(10, activation='softmax', name='output'))\n",
    "    cnn.compile(optimizer=opt, loss='categorical_crossentropy', metrics=['accuracy'])\n",
    "    cnn_history = cnn.fit(X_train, y_train_one_hot, epochs=20,validation_data=(X_val, y_val_one_hot), batch_size=size)\n",
    "    results.append(((\"batch_size\", size),(\"optimizer\", opt),(\"validation accuracy\", cnn_history.history['val_accuracy'][-1])))\n",
    "print(\"display validation results\")\n",
    "for result in results:\n",
    "  print(result)\n",
    "best_combination = max(results, key=lambda x: x[2][1])\n",
    "print()\n",
    "print(f\"best parameter combination: {best_combination}\")\n",
    "\n"
   ]
  },
  {
   "cell_type": "markdown",
   "metadata": {
    "id": "wLEGmbRGJTXT"
   },
   "source": []
  },
  {
   "cell_type": "markdown",
   "metadata": {
    "id": "mSteTYz8XlFG"
   },
   "source": [
    "3.4 Overfitting\n",
    "\n",
    "1) To overcome overfitting, we will train the network again with dropout this time. For hidden layers use dropout probability of 0.3. Train the model again for 20 epochs. Report model performance on test set.\n",
    "\n",
    "Plot separate plots for:\n",
    "\n",
    "displaying train vs validation loss over each epoch\n",
    "displaying train vs validation accuracy over each epoch\n",
    "\n",
    "2) This time, let's apply a batch normalization after every hidden layer, train the model for 20 epochs, report model performance on test set as above.\n",
    "\n",
    "Plot separate plots for:\n",
    "\n",
    "displaying train vs validation loss over each epoch\n",
    "displaying train vs validation accuracy over each epoch\n",
    "\n",
    "3) Compare batch normalization technique with the original model and with dropout, which technique do you think helps with overfitting better?"
   ]
  },
  {
   "cell_type": "markdown",
   "metadata": {
    "id": "QqC6Zs_UXrHE"
   },
   "source": [
    "3.4.1 Dropout"
   ]
  },
  {
   "cell_type": "code",
   "execution_count": null,
   "metadata": {
    "colab": {
     "base_uri": "https://localhost:8080/"
    },
    "id": "tKi2YqTrXulb",
    "outputId": "1fb07561-615f-499f-e312-2acc15015963"
   },
   "outputs": [
    {
     "name": "stdout",
     "output_type": "stream",
     "text": [
      "Epoch 1/20\n",
      "313/313 [==============================] - 53s 165ms/step - loss: 1.9711 - accuracy: 0.2664 - val_loss: 1.6693 - val_accuracy: 0.4103\n",
      "Epoch 2/20\n",
      "313/313 [==============================] - 44s 141ms/step - loss: 1.6403 - accuracy: 0.4027 - val_loss: 1.4560 - val_accuracy: 0.4702\n",
      "Epoch 3/20\n",
      "313/313 [==============================] - 44s 141ms/step - loss: 1.5229 - accuracy: 0.4491 - val_loss: 1.3879 - val_accuracy: 0.5021\n",
      "Epoch 4/20\n",
      "313/313 [==============================] - 44s 139ms/step - loss: 1.4588 - accuracy: 0.4744 - val_loss: 1.3509 - val_accuracy: 0.5120\n",
      "Epoch 5/20\n",
      "313/313 [==============================] - 44s 140ms/step - loss: 1.4094 - accuracy: 0.4932 - val_loss: 1.2795 - val_accuracy: 0.5441\n",
      "Epoch 6/20\n",
      "313/313 [==============================] - 43s 136ms/step - loss: 1.3823 - accuracy: 0.5050 - val_loss: 1.2956 - val_accuracy: 0.5371\n",
      "Epoch 7/20\n",
      "313/313 [==============================] - 43s 137ms/step - loss: 1.3597 - accuracy: 0.5128 - val_loss: 1.2550 - val_accuracy: 0.5484\n",
      "Epoch 8/20\n",
      "313/313 [==============================] - 43s 137ms/step - loss: 1.3335 - accuracy: 0.5222 - val_loss: 1.2254 - val_accuracy: 0.5623\n",
      "Epoch 9/20\n",
      "313/313 [==============================] - 46s 146ms/step - loss: 1.3058 - accuracy: 0.5350 - val_loss: 1.2341 - val_accuracy: 0.5600\n"
     ]
    }
   ],
   "source": [
    "#Your code here\n",
    "cnn_dropout = Sequential()\n",
    "\n",
    "cnn_dropout.add(Conv2D(6, kernel_size=(5, 5), strides=(1, 1), padding='same', activation='relu', input_shape=(32, 32, 3), name='conv_1'))\n",
    "cnn_dropout.add(MaxPooling2D(pool_size=(2, 2), name='maxpool_1'))\n",
    "cnn_dropout.add(Dropout(0.3))\n",
    "\n",
    "cnn_dropout.add(Conv2D(16, kernel_size=(5, 5), strides=(1, 1), padding='valid', activation='relu', name='conv_2'))\n",
    "cnn_dropout.add(MaxPooling2D(pool_size=(2, 2), name='maxpool_2'))\n",
    "cnn_dropout.add(Dropout(0.3))\n",
    "\n",
    "cnn_dropout.add(Conv2D(120, kernel_size=(5, 5), activation='relu', name='conv_3'))\n",
    "cnn_dropout.add(Flatten())\n",
    "cnn_dropout.add(Dropout(0.3))\n",
    "\n",
    "cnn_dropout.add(Dense(84, activation='relu', name='dense_1'))\n",
    "cnn_dropout.add(Dropout(0.3))\n",
    "\n",
    "cnn_dropout.add(Dense(10, activation='softmax', name='output'))\n",
    "\n",
    "cnn_dropout.compile(optimizer='adam', loss='categorical_crossentropy', metrics=['accuracy'])\n",
    "cnn_dropout_history = cnn_dropout.fit(X_train, y_train_one_hot, epochs=20, validation_data=(X_val, y_val_one_hot), batch_size=128)"
   ]
  },
  {
   "cell_type": "code",
   "execution_count": null,
   "metadata": {
    "id": "tr_FL8h5Xx5c"
   },
   "outputs": [],
   "source": [
    "#Your code here\n",
    "fig, axes = plt.subplots(nrows=1, ncols=2, figsize=(12, 6))\n",
    "axes[0].plot(cnn_dropout_history.history['loss'], label='Train')\n",
    "axes[0].plot(cnn_dropout_history.history['val_loss'], label='Validation')\n",
    "axes[0].set_title('Loss VS Epoch - Dropout')\n",
    "axes[0].set_xlabel('Epoch')\n",
    "axes[0].set_ylabel('Loss')\n",
    "axes[0].legend()\n",
    "axes[1].plot(cnn_dropout_history.history['accuracy'], label='Train')\n",
    "axes[1].plot(cnn_dropout_history.history['val_accuracy'], label='Validation')\n",
    "axes[1].set_title('Accuracy VS Epoch - Dropout')\n",
    "axes[1].set_xlabel('Epoch')\n",
    "axes[1].set_ylabel('Accuracy')\n",
    "axes[1].legend()\n",
    "plt.tight_layout()\n",
    "plt.show()"
   ]
  },
  {
   "cell_type": "code",
   "execution_count": null,
   "metadata": {
    "id": "b8GRnh8dX0WF"
   },
   "outputs": [],
   "source": [
    "#Your code here\n",
    "test_loss_dropout, test_accuracy_dropout = cnn_dropout.evaluate(x_test, to_categorical(y_test, 10))\n",
    "print(f'Test Loss with Dropout: {test_loss_dropout:.4f}')\n",
    "print(f'Test Accuracy with Dropout: {test_accuracy_dropout:.4f}')"
   ]
  },
  {
   "cell_type": "markdown",
   "metadata": {
    "id": "-xviUopQX71P"
   },
   "source": [
    "3.4.2 Batch Normalization"
   ]
  },
  {
   "cell_type": "code",
   "execution_count": 12,
   "metadata": {
    "colab": {
     "base_uri": "https://localhost:8080/"
    },
    "id": "HgvBTLRpX-t5",
    "outputId": "e555e721-4fb3-46e5-ecf7-9def4c16532e"
   },
   "outputs": [
    {
     "name": "stdout",
     "output_type": "stream",
     "text": [
      "Epoch 1/20\n",
      "313/313 [==============================] - 52s 160ms/step - loss: 1.5445 - accuracy: 0.4508 - val_loss: 2.0168 - val_accuracy: 0.3201\n",
      "Epoch 2/20\n",
      "313/313 [==============================] - 48s 153ms/step - loss: 1.2060 - accuracy: 0.5706 - val_loss: 1.6235 - val_accuracy: 0.4643\n",
      "Epoch 3/20\n",
      "313/313 [==============================] - 51s 162ms/step - loss: 1.0558 - accuracy: 0.6252 - val_loss: 1.2384 - val_accuracy: 0.5812\n",
      "Epoch 4/20\n",
      "313/313 [==============================] - 52s 165ms/step - loss: 0.9460 - accuracy: 0.6642 - val_loss: 1.0706 - val_accuracy: 0.6307\n",
      "Epoch 5/20\n",
      "313/313 [==============================] - 49s 157ms/step - loss: 0.8619 - accuracy: 0.6947 - val_loss: 1.1003 - val_accuracy: 0.6235\n",
      "Epoch 6/20\n",
      "313/313 [==============================] - 52s 165ms/step - loss: 0.7923 - accuracy: 0.7222 - val_loss: 1.0748 - val_accuracy: 0.6307\n",
      "Epoch 7/20\n",
      "313/313 [==============================] - 52s 167ms/step - loss: 0.7236 - accuracy: 0.7437 - val_loss: 1.1010 - val_accuracy: 0.6357\n",
      "Epoch 8/20\n",
      "313/313 [==============================] - 52s 166ms/step - loss: 0.6684 - accuracy: 0.7664 - val_loss: 1.1978 - val_accuracy: 0.6211\n",
      "Epoch 9/20\n",
      "313/313 [==============================] - 50s 160ms/step - loss: 0.6114 - accuracy: 0.7844 - val_loss: 1.3427 - val_accuracy: 0.5938\n",
      "Epoch 10/20\n",
      "313/313 [==============================] - 50s 161ms/step - loss: 0.5623 - accuracy: 0.8018 - val_loss: 1.1439 - val_accuracy: 0.6408\n",
      "Epoch 11/20\n",
      "313/313 [==============================] - 51s 163ms/step - loss: 0.5153 - accuracy: 0.8186 - val_loss: 1.2432 - val_accuracy: 0.6248\n",
      "Epoch 12/20\n",
      "313/313 [==============================] - 49s 158ms/step - loss: 0.4683 - accuracy: 0.8355 - val_loss: 1.3106 - val_accuracy: 0.6308\n",
      "Epoch 13/20\n",
      "313/313 [==============================] - 52s 165ms/step - loss: 0.4266 - accuracy: 0.8493 - val_loss: 1.3719 - val_accuracy: 0.6131\n",
      "Epoch 14/20\n",
      "313/313 [==============================] - 50s 160ms/step - loss: 0.3972 - accuracy: 0.8603 - val_loss: 1.3371 - val_accuracy: 0.6305\n",
      "Epoch 15/20\n",
      "313/313 [==============================] - 53s 170ms/step - loss: 0.3623 - accuracy: 0.8723 - val_loss: 1.4848 - val_accuracy: 0.6165\n",
      "Epoch 16/20\n",
      "313/313 [==============================] - 52s 168ms/step - loss: 0.3342 - accuracy: 0.8813 - val_loss: 1.6012 - val_accuracy: 0.6109\n",
      "Epoch 17/20\n",
      "313/313 [==============================] - 52s 166ms/step - loss: 0.3022 - accuracy: 0.8928 - val_loss: 1.4516 - val_accuracy: 0.6347\n",
      "Epoch 18/20\n",
      "313/313 [==============================] - 52s 166ms/step - loss: 0.2807 - accuracy: 0.9017 - val_loss: 1.5631 - val_accuracy: 0.6188\n",
      "Epoch 19/20\n",
      "313/313 [==============================] - 50s 160ms/step - loss: 0.2658 - accuracy: 0.9066 - val_loss: 1.5787 - val_accuracy: 0.6365\n",
      "Epoch 20/20\n",
      "313/313 [==============================] - 50s 159ms/step - loss: 0.2459 - accuracy: 0.9127 - val_loss: 1.6516 - val_accuracy: 0.6238\n"
     ]
    }
   ],
   "source": [
    "#Your code here\n",
    "cnn_batchnorm = Sequential()\n",
    "cnn_batchnorm.add(Conv2D(6, kernel_size=(5, 5), strides=(1, 1), padding='same', activation='relu', input_shape=(32, 32, 3), name='conv_1'))\n",
    "cnn_batchnorm.add(BatchNormalization(name='batchnorm_1'))\n",
    "cnn_batchnorm.add(MaxPooling2D(pool_size=(2, 2), name='maxpool_1'))\n",
    "\n",
    "cnn_batchnorm.add(Conv2D(16, kernel_size=(5, 5), strides=(1, 1), padding='valid', activation='relu', name='conv_2'))\n",
    "cnn_batchnorm.add(BatchNormalization(name='batchnorm_2'))\n",
    "cnn_batchnorm.add(MaxPooling2D(pool_size=(2, 2), name='maxpool_2'))\n",
    "\n",
    "cnn_batchnorm.add(Conv2D(120, kernel_size=(5, 5), activation='relu', name='conv_3'))\n",
    "cnn_batchnorm.add(Flatten())\n",
    "cnn_batchnorm.add(BatchNormalization(name='batchnorm_3'))\n",
    "\n",
    "cnn_batchnorm.add(Dense(84, activation='relu', name='dense_1'))\n",
    "cnn_batchnorm.add(BatchNormalization(name='batchnorm_4'))\n",
    "\n",
    "cnn_batchnorm.add(Dense(10, activation='softmax', name='output'))\n",
    "\n",
    "cnn_batchnorm.compile(optimizer='adam', loss='categorical_crossentropy', metrics=['accuracy'])\n",
    "cnn_batchnorm_history = cnn_batchnorm.fit(X_train, y_train_one_hot, epochs=20, validation_data=(X_val, y_val_one_hot), batch_size=128)"
   ]
  },
  {
   "cell_type": "code",
   "execution_count": 13,
   "metadata": {
    "colab": {
     "base_uri": "https://localhost:8080/",
     "height": 607
    },
    "id": "oSdB71AQYBkY",
    "outputId": "b8e5aa83-9056-419a-afca-430260c11b76"
   },
   "outputs": [
    {
     "data": {
      "image/png": "[encoded data removed]",
      "text/plain": [
       "<Figure size 1200x600 with 2 Axes>"
      ]
     },
     "metadata": {},
     "output_type": "display_data"
    }
   ],
   "source": [
    "#Your code here\n",
    "fig, axes = plt.subplots(nrows=1, ncols=2, figsize=(12, 6))\n",
    "axes[0].plot(cnn_batchnorm_history.history['loss'], label='Train')\n",
    "axes[0].plot(cnn_batchnorm_history.history['val_loss'], label='Validation')\n",
    "axes[0].set_title('Loss VS Epoch - Batch Normalization')\n",
    "axes[0].set_xlabel('Epoch')\n",
    "axes[0].set_ylabel('Loss')\n",
    "axes[0].legend()\n",
    "axes[1].plot(cnn_batchnorm_history.history['accuracy'], label='Train')\n",
    "axes[1].plot(cnn_batchnorm_history.history['val_accuracy'], label='Validation')\n",
    "axes[1].set_title('Accuracy VS Epoch - Batch Normalization')\n",
    "axes[1].set_xlabel('Epoch')\n",
    "axes[1].set_ylabel('Accuracy')\n",
    "axes[1].legend()\n",
    "plt.tight_layout()\n",
    "plt.show()"
   ]
  },
  {
   "cell_type": "code",
   "execution_count": 14,
   "metadata": {
    "colab": {
     "base_uri": "https://localhost:8080/"
    },
    "id": "Dy1glawqYExM",
    "outputId": "70a2b176-042d-404e-8af8-82e3c5aec044"
   },
   "outputs": [
    {
     "name": "stdout",
     "output_type": "stream",
     "text": [
      "313/313 [==============================] - 4s 14ms/step - loss: 1.6330 - accuracy: 0.6140\n",
      "Test Loss with Batch Normalization: 1.6330\n",
      "Test Accuracy with Batch Normalization: 0.6140\n"
     ]
    }
   ],
   "source": [
    "#Your code here\n",
    "test_loss_batchnorm, test_accuracy_batchnorm = cnn_batchnorm.evaluate(x_test, to_categorical(y_test, 10))\n",
    "print(f'Test Loss with Batch Normalization: {test_loss_batchnorm:.4f}')\n",
    "print(f'Test Accuracy with Batch Normalization: {test_accuracy_batchnorm:.4f}')"
   ]
  },
  {
   "cell_type": "code",
   "execution_count": 15,
   "metadata": {
    "colab": {
     "base_uri": "https://localhost:8080/"
    },
    "id": "TZCd1BjJn6Z9",
    "outputId": "65840aa8-ed6d-4f48-e21a-e76ccc804152"
   },
   "outputs": [
    {
     "name": "stdout",
     "output_type": "stream",
     "text": [
      "Validation Accuracy with Original Model: 0.5008999705314636\n",
      "Validation Accuracy with Drop Out: 0.6150000095367432\n",
      "Validation Accuracy with Batch Normalization: 0.6237999796867371\n"
     ]
    }
   ],
   "source": [
    "print(f\"Validation Accuracy with Original Model: {cnn_history.history['val_accuracy'][-1]}\")\n",
    "print(f\"Validation Accuracy with Drop Out: {cnn_dropout_history.history['val_accuracy'][-1]}\")\n",
    "print(f\"Validation Accuracy with Batch Normalization: {cnn_batchnorm_history.history['val_accuracy'][-1]}\")"
   ]
  },
  {
   "cell_type": "markdown",
   "metadata": {
    "id": "zxFxz67psDhJ"
   },
   "source": [
    "- Accuracy with Original Model: 0.5008999705314636\n",
    "- Validation Accuracy with Drop Out: 0.6150000095367432\n",
    "- Validation Accuracy with Batch Normalization: 0.6237999796867371\n",
    "- Adding both drop out and batch normalization result in higher validation accuracy. However, it seems like batch normalization does a better job in preventing overfitting since it gets higher validation accuracy"
   ]
  },
  {
   "cell_type": "markdown",
   "metadata": {
    "id": "z0sQIvXhTzNp"
   },
   "source": [
    "## Natural Language Processing\n",
    "\n",
    "We will train a supervised learning model to predict if a movie review has a positive or negative sentiment."
   ]
  },
  {
   "cell_type": "markdown",
   "metadata": {
    "id": "QXMFcomQT3cf"
   },
   "source": [
    "###**Dataset loading & dev/test splits**"
   ]
  },
  {
   "cell_type": "markdown",
   "metadata": {
    "id": "X-AVsvHdMtqQ"
   },
   "source": [
    "1.1) Load the movie reviews dataset from NLTK library"
   ]
  },
  {
   "cell_type": "code",
   "execution_count": 16,
   "metadata": {
    "colab": {
     "base_uri": "https://localhost:8080/"
    },
    "id": "AqyybzOMMAvo",
    "outputId": "5a3f0570-9b07-4f58-d964-7d1e4df2ea29"
   },
   "outputs": [
    {
     "name": "stderr",
     "output_type": "stream",
     "text": [
      "[nltk_data] Downloading package movie_reviews to /root/nltk_data...\n",
      "[nltk_data]   Unzipping corpora/movie_reviews.zip.\n",
      "[nltk_data] Downloading package punkt to /root/nltk_data...\n",
      "[nltk_data]   Unzipping tokenizers/punkt.zip.\n",
      "[nltk_data] Downloading package stopwords to /root/nltk_data...\n",
      "[nltk_data]   Unzipping corpora/stopwords.zip.\n"
     ]
    }
   ],
   "source": [
    "import nltk\n",
    "nltk.download(\"movie_reviews\")\n",
    "nltk.download('punkt')\n",
    "nltk.download('stopwords')\n",
    "from nltk.corpus import movie_reviews\n",
    "import warnings\n",
    "warnings.filterwarnings(\"ignore\")\n",
    "from nltk.corpus import stopwords\n",
    "stop = stopwords.words('english')\n",
    "import pandas as pd\n",
    "import string\n",
    "import re\n",
    "from sklearn.model_selection import train_test_split\n",
    "from nltk.stem import PorterStemmer\n",
    "from nltk.tokenize import word_tokenize\n",
    "from sklearn.feature_extraction.text import CountVectorizer\n",
    "from sklearn.linear_model import LogisticRegression\n",
    "from sklearn.feature_extraction.text import TfidfVectorizer\n",
    "from sklearn.metrics import classification_report"
   ]
  },
  {
   "cell_type": "markdown",
   "metadata": {
    "id": "fli0xSP5MpOa"
   },
   "source": [
    "1.2) Load the positive & negative reviews"
   ]
  },
  {
   "cell_type": "code",
   "execution_count": 17,
   "metadata": {
    "id": "2anjMGF6MYmS"
   },
   "outputs": [],
   "source": [
    "positive_reviews = []\n",
    "for fileid in movie_reviews.fileids('pos'):\n",
    "    words = movie_reviews.raw(fileid)\n",
    "    positive_reviews.append(words)\n",
    "\n",
    "negative_reviews = []\n",
    "for fileid in movie_reviews.fileids('neg'):\n",
    "    words = movie_reviews.raw(fileid)\n",
    "    negative_reviews.append(words)"
   ]
  },
  {
   "cell_type": "markdown",
   "metadata": {
    "id": "wgnT0SFqM5WN"
   },
   "source": [
    "1.3) Make a data frame that has all reviews and their corresponding labels"
   ]
  },
  {
   "cell_type": "code",
   "execution_count": 18,
   "metadata": {
    "id": "iLehhhrQM4h3"
   },
   "outputs": [],
   "source": [
    "# Your code here\n",
    "positive_df = pd.DataFrame({'Review': positive_reviews, 'Label': 1})\n",
    "negative_df = pd.DataFrame({'Review': negative_reviews, 'Label': 0})\n",
    "reviews_df = pd.concat([positive_df, negative_df], ignore_index=True)\n",
    "reviews_df = reviews_df.sample(frac=1, random_state=42).reset_index(drop=True)"
   ]
  },
  {
   "cell_type": "markdown",
   "metadata": {
    "id": "ttE7HrHjNDuC"
   },
   "source": [
    "1.4) Look at the class distribution of the movie reviews"
   ]
  },
  {
   "cell_type": "code",
   "execution_count": 19,
   "metadata": {
    "colab": {
     "base_uri": "https://localhost:8080/"
    },
    "id": "NtuvFJQ_NBmu",
    "outputId": "35b09108-abc4-4136-f96e-9a2cd3fdf2f6"
   },
   "outputs": [
    {
     "name": "stdout",
     "output_type": "stream",
     "text": [
      "0    1000\n",
      "1    1000\n",
      "Name: Label, dtype: int64\n"
     ]
    }
   ],
   "source": [
    "# Your code here\n",
    "class_distribution = reviews_df['Label'].value_counts()\n",
    "print(class_distribution)"
   ]
  },
  {
   "cell_type": "markdown",
   "metadata": {
    "id": "hn05L1C0NIx7"
   },
   "source": [
    "1.5) Create a development & test split (80/20 ratio):"
   ]
  },
  {
   "cell_type": "code",
   "execution_count": 20,
   "metadata": {
    "id": "egvHN2VeNGwN"
   },
   "outputs": [],
   "source": [
    "# Your code here\n",
    "x = reviews_df['Review']\n",
    "y = reviews_df['Label']\n",
    "x_dev, x_test, y_dev, y_test = train_test_split(x, y, test_size=0.2, random_state=42, stratify=y)"
   ]
  },
  {
   "cell_type": "markdown",
   "metadata": {
    "id": "7v8ikOSFNRUU"
   },
   "source": [
    "## **Data preprocessing**\n",
    "\n",
    "We will do some data preprocessing before we tokenize the data. You can use the re package in python to remove and and replace these strings."
   ]
  },
  {
   "cell_type": "markdown",
   "metadata": {
    "id": "G1rs4Z0sOGN5"
   },
   "source": [
    "1.6) Replace numbers in every review with \"\""
   ]
  },
  {
   "cell_type": "code",
   "execution_count": 21,
   "metadata": {
    "id": "sJ8HffyQNPyp"
   },
   "outputs": [],
   "source": [
    "# Your code here\n",
    "def remove_numbers(text):\n",
    "    return re.sub(r'\\d+', '', text)\n",
    "x_dev = x_dev.apply(remove_numbers)\n",
    "x_test = x_test.apply(remove_numbers)"
   ]
  },
  {
   "cell_type": "markdown",
   "metadata": {
    "id": "GUESPUzDOO6x"
   },
   "source": [
    "1.7) Remove all stop words"
   ]
  },
  {
   "cell_type": "code",
   "execution_count": 22,
   "metadata": {
    "id": "Kz_qmWLkOVVs"
   },
   "outputs": [],
   "source": [
    "# Your code here\n",
    "stop_words = set(stopwords.words('english'))\n",
    "def remove_stopwords(text):\n",
    "    words = text.split()\n",
    "    filtered_words = [word for word in words if word.lower() not in stop_words]\n",
    "    return ' '.join(filtered_words)\n",
    "x_dev = x_dev.apply(remove_stopwords)\n",
    "x_test = x_test.apply(remove_stopwords)"
   ]
  },
  {
   "cell_type": "markdown",
   "metadata": {
    "id": "y5OIknvjOZwT"
   },
   "source": [
    "1.8) Remove all punctuations"
   ]
  },
  {
   "cell_type": "code",
   "execution_count": 23,
   "metadata": {
    "id": "TK1E0DXNOTWo"
   },
   "outputs": [],
   "source": [
    "# Your code here\n",
    "def remove_punctuation(text):\n",
    "    translator = str.maketrans('', '', string.punctuation)\n",
    "    return text.translate(translator)\n",
    "x_dev = x_dev.apply(remove_punctuation)\n",
    "x_test = x_test.apply(remove_punctuation)"
   ]
  },
  {
   "cell_type": "markdown",
   "metadata": {
    "id": "TgCMUOoHOdtp"
   },
   "source": [
    "1.9) Apply stemming on the development & test datasets using Porter algorithm"
   ]
  },
  {
   "cell_type": "code",
   "execution_count": 24,
   "metadata": {
    "id": "y-rKDUheOa3K"
   },
   "outputs": [],
   "source": [
    "# Your code here\n",
    "porter_stemmer = PorterStemmer()\n",
    "def apply_stemming(text):\n",
    "    words = word_tokenize(text)\n",
    "    stemmed_words = [porter_stemmer.stem(word) for word in words]\n",
    "    return ' '.join(stemmed_words)\n",
    "\n",
    "x_dev = x_dev.apply(apply_stemming)\n",
    "x_test = x_test.apply(apply_stemming)"
   ]
  },
  {
   "cell_type": "markdown",
   "metadata": {
    "id": "BsgZEUY1Q7M1"
   },
   "source": [
    "1.10) Looking at the dataset do you think any other data pre-processing might be helpful? You can experiment with the features if you want to.\n",
    "- lemmatization:\n",
    "  - Instead of using porter_stemmer, I will recommend Lemmatization. Lemmatization is generally considered more precise and linguistically informed compared to Porter stemming. While both techniques aim to reduce words to their base form, lemmatization focuses on capturing the true meaning of words by transforming them to their dictionary form or lemma. This results in lemmatization being more suitable for tasks where semantic accuracy and language understanding are critical. In contrast, Porter stemming is a rule-based heuristic process that crudely removes prefixes or suffixes, leading to faster but less accurate word reduction. Lemmatization, by considering the context and semantics of words, provides a more refined and contextually relevant transformation, making it advantageous in applications that require a deeper understanding of language."
   ]
  },
  {
   "cell_type": "markdown",
   "metadata": {
    "id": "htyGAullliDJ"
   },
   "source": [
    "### 2) Model Training"
   ]
  },
  {
   "cell_type": "markdown",
   "metadata": {
    "id": "UkPGh4VSltnn"
   },
   "source": [
    "2.1) Create bag of words features for each review in the development dataset"
   ]
  },
  {
   "cell_type": "code",
   "execution_count": 25,
   "metadata": {
    "id": "mbkVmAwRluTn"
   },
   "outputs": [],
   "source": [
    "# Your code here\n",
    "bow_vectorizer = CountVectorizer()\n",
    "bow_features_dev = bow_vectorizer.fit_transform(x_dev)\n",
    "bow_features_test = bow_vectorizer.transform(x_test)"
   ]
  },
  {
   "cell_type": "markdown",
   "metadata": {
    "id": "1lfwegKtk-Lp"
   },
   "source": [
    "2.2) Train a Logistic Regression model on the development dataset"
   ]
  },
  {
   "cell_type": "code",
   "execution_count": 26,
   "metadata": {
    "colab": {
     "base_uri": "https://localhost:8080/",
     "height": 75
    },
    "id": "PEx3JOnfk-tY",
    "outputId": "19595d6d-17a6-4f00-ed03-fcb1e5a22e53"
   },
   "outputs": [
    {
     "data": {
      "text/html": [
       "<style>#sk-container-id-1 {color: black;background-color: white;}#sk-container-id-1 pre{padding: 0;}#sk-container-id-1 div.sk-toggleable {background-color: white;}#sk-container-id-1 label.sk-toggleable__label {cursor: pointer;display: block;width: 100%;margin-bottom: 0;padding: 0.3em;box-sizing: border-box;text-align: center;}#sk-container-id-1 label.sk-toggleable__label-arrow:before {content: \"▸\";float: left;margin-right: 0.25em;color: #696969;}#sk-container-id-1 label.sk-toggleable__label-arrow:hover:before {color: black;}#sk-container-id-1 div.sk-estimator:hover label.sk-toggleable__label-arrow:before {color: black;}#sk-container-id-1 div.sk-toggleable__content {max-height: 0;max-width: 0;overflow: hidden;text-align: left;background-color: #f0f8ff;}#sk-container-id-1 div.sk-toggleable__content pre {margin: 0.2em;color: black;border-radius: 0.25em;background-color: #f0f8ff;}#sk-container-id-1 input.sk-toggleable__control:checked~div.sk-toggleable__content {max-height: 200px;max-width: 100%;overflow: auto;}#sk-container-id-1 input.sk-toggleable__control:checked~label.sk-toggleable__label-arrow:before {content: \"▾\";}#sk-container-id-1 div.sk-estimator input.sk-toggleable__control:checked~label.sk-toggleable__label {background-color: #d4ebff;}#sk-container-id-1 div.sk-label input.sk-toggleable__control:checked~label.sk-toggleable__label {background-color: #d4ebff;}#sk-container-id-1 input.sk-hidden--visually {border: 0;clip: rect(1px 1px 1px 1px);clip: rect(1px, 1px, 1px, 1px);height: 1px;margin: -1px;overflow: hidden;padding: 0;position: absolute;width: 1px;}#sk-container-id-1 div.sk-estimator {font-family: monospace;background-color: #f0f8ff;border: 1px dotted black;border-radius: 0.25em;box-sizing: border-box;margin-bottom: 0.5em;}#sk-container-id-1 div.sk-estimator:hover {background-color: #d4ebff;}#sk-container-id-1 div.sk-parallel-item::after {content: \"\";width: 100%;border-bottom: 1px solid gray;flex-grow: 1;}#sk-container-id-1 div.sk-label:hover label.sk-toggleable__label {background-color: #d4ebff;}#sk-container-id-1 div.sk-serial::before {content: \"\";position: absolute;border-left: 1px solid gray;box-sizing: border-box;top: 0;bottom: 0;left: 50%;z-index: 0;}#sk-container-id-1 div.sk-serial {display: flex;flex-direction: column;align-items: center;background-color: white;padding-right: 0.2em;padding-left: 0.2em;position: relative;}#sk-container-id-1 div.sk-item {position: relative;z-index: 1;}#sk-container-id-1 div.sk-parallel {display: flex;align-items: stretch;justify-content: center;background-color: white;position: relative;}#sk-container-id-1 div.sk-item::before, #sk-container-id-1 div.sk-parallel-item::before {content: \"\";position: absolute;border-left: 1px solid gray;box-sizing: border-box;top: 0;bottom: 0;left: 50%;z-index: -1;}#sk-container-id-1 div.sk-parallel-item {display: flex;flex-direction: column;z-index: 1;position: relative;background-color: white;}#sk-container-id-1 div.sk-parallel-item:first-child::after {align-self: flex-end;width: 50%;}#sk-container-id-1 div.sk-parallel-item:last-child::after {align-self: flex-start;width: 50%;}#sk-container-id-1 div.sk-parallel-item:only-child::after {width: 0;}#sk-container-id-1 div.sk-dashed-wrapped {border: 1px dashed gray;margin: 0 0.4em 0.5em 0.4em;box-sizing: border-box;padding-bottom: 0.4em;background-color: white;}#sk-container-id-1 div.sk-label label {font-family: monospace;font-weight: bold;display: inline-block;line-height: 1.2em;}#sk-container-id-1 div.sk-label-container {text-align: center;}#sk-container-id-1 div.sk-container {/* jupyter's `normalize.less` sets `[hidden] { display: none; }` but bootstrap.min.css set `[hidden] { display: none !important; }` so we also need the `!important` here to be able to override the default hidden behavior on the sphinx rendered scikit-learn.org. See: https://github.com/scikit-learn/scikit-learn/issues/21755 */display: inline-block !important;position: relative;}#sk-container-id-1 div.sk-text-repr-fallback {display: none;}</style><div id=\"sk-container-id-1\" class=\"sk-top-container\"><div class=\"sk-text-repr-fallback\"><pre>LogisticRegression()</pre><b>In a Jupyter environment, please rerun this cell to show the HTML representation or trust the notebook. <br />On GitHub, the HTML representation is unable to render, please try loading this page with nbviewer.org.</b></div><div class=\"sk-container\" hidden><div class=\"sk-item\"><div class=\"sk-estimator sk-toggleable\"><input class=\"sk-toggleable__control sk-hidden--visually\" id=\"sk-estimator-id-1\" type=\"checkbox\" checked><label for=\"sk-estimator-id-1\" class=\"sk-toggleable__label sk-toggleable__label-arrow\">LogisticRegression</label><div class=\"sk-toggleable__content\"><pre>LogisticRegression()</pre></div></div></div></div></div>"
      ],
      "text/plain": [
       "LogisticRegression()"
      ]
     },
     "execution_count": 26,
     "metadata": {},
     "output_type": "execute_result"
    }
   ],
   "source": [
    "# Your code here\n",
    "bow_logreg_model = LogisticRegression()\n",
    "bow_logreg_model.fit(bow_features_dev, y_dev)"
   ]
  },
  {
   "cell_type": "markdown",
   "metadata": {
    "id": "B_3wvbk9k_Sj"
   },
   "source": [
    "2.3) Create TF-IDF features for each review in the development dataset"
   ]
  },
  {
   "cell_type": "code",
   "execution_count": 27,
   "metadata": {
    "id": "vlmA7bS3k_tQ"
   },
   "outputs": [],
   "source": [
    "# Your code here\n",
    "tf_idf_vectorizer = TfidfVectorizer()\n",
    "tf_idf_features_dev = tf_idf_vectorizer.fit_transform(x_dev)\n",
    "tf_idf_features_test = tf_idf_vectorizer.transform(x_test)"
   ]
  },
  {
   "cell_type": "markdown",
   "metadata": {
    "id": "uFnzO67WlL2Y"
   },
   "source": [
    "2.4) Train the Logistic Regression model on the development dataset with TF-IDF features"
   ]
  },
  {
   "cell_type": "code",
   "execution_count": 28,
   "metadata": {
    "colab": {
     "base_uri": "https://localhost:8080/",
     "height": 75
    },
    "id": "mF1AcJxKlN_I",
    "outputId": "55eb2721-4a6c-4ee9-9568-73aedeca2be3"
   },
   "outputs": [
    {
     "data": {
      "text/html": [
       "<style>#sk-container-id-2 {color: black;background-color: white;}#sk-container-id-2 pre{padding: 0;}#sk-container-id-2 div.sk-toggleable {background-color: white;}#sk-container-id-2 label.sk-toggleable__label {cursor: pointer;display: block;width: 100%;margin-bottom: 0;padding: 0.3em;box-sizing: border-box;text-align: center;}#sk-container-id-2 label.sk-toggleable__label-arrow:before {content: \"▸\";float: left;margin-right: 0.25em;color: #696969;}#sk-container-id-2 label.sk-toggleable__label-arrow:hover:before {color: black;}#sk-container-id-2 div.sk-estimator:hover label.sk-toggleable__label-arrow:before {color: black;}#sk-container-id-2 div.sk-toggleable__content {max-height: 0;max-width: 0;overflow: hidden;text-align: left;background-color: #f0f8ff;}#sk-container-id-2 div.sk-toggleable__content pre {margin: 0.2em;color: black;border-radius: 0.25em;background-color: #f0f8ff;}#sk-container-id-2 input.sk-toggleable__control:checked~div.sk-toggleable__content {max-height: 200px;max-width: 100%;overflow: auto;}#sk-container-id-2 input.sk-toggleable__control:checked~label.sk-toggleable__label-arrow:before {content: \"▾\";}#sk-container-id-2 div.sk-estimator input.sk-toggleable__control:checked~label.sk-toggleable__label {background-color: #d4ebff;}#sk-container-id-2 div.sk-label input.sk-toggleable__control:checked~label.sk-toggleable__label {background-color: #d4ebff;}#sk-container-id-2 input.sk-hidden--visually {border: 0;clip: rect(1px 1px 1px 1px);clip: rect(1px, 1px, 1px, 1px);height: 1px;margin: -1px;overflow: hidden;padding: 0;position: absolute;width: 1px;}#sk-container-id-2 div.sk-estimator {font-family: monospace;background-color: #f0f8ff;border: 1px dotted black;border-radius: 0.25em;box-sizing: border-box;margin-bottom: 0.5em;}#sk-container-id-2 div.sk-estimator:hover {background-color: #d4ebff;}#sk-container-id-2 div.sk-parallel-item::after {content: \"\";width: 100%;border-bottom: 1px solid gray;flex-grow: 1;}#sk-container-id-2 div.sk-label:hover label.sk-toggleable__label {background-color: #d4ebff;}#sk-container-id-2 div.sk-serial::before {content: \"\";position: absolute;border-left: 1px solid gray;box-sizing: border-box;top: 0;bottom: 0;left: 50%;z-index: 0;}#sk-container-id-2 div.sk-serial {display: flex;flex-direction: column;align-items: center;background-color: white;padding-right: 0.2em;padding-left: 0.2em;position: relative;}#sk-container-id-2 div.sk-item {position: relative;z-index: 1;}#sk-container-id-2 div.sk-parallel {display: flex;align-items: stretch;justify-content: center;background-color: white;position: relative;}#sk-container-id-2 div.sk-item::before, #sk-container-id-2 div.sk-parallel-item::before {content: \"\";position: absolute;border-left: 1px solid gray;box-sizing: border-box;top: 0;bottom: 0;left: 50%;z-index: -1;}#sk-container-id-2 div.sk-parallel-item {display: flex;flex-direction: column;z-index: 1;position: relative;background-color: white;}#sk-container-id-2 div.sk-parallel-item:first-child::after {align-self: flex-end;width: 50%;}#sk-container-id-2 div.sk-parallel-item:last-child::after {align-self: flex-start;width: 50%;}#sk-container-id-2 div.sk-parallel-item:only-child::after {width: 0;}#sk-container-id-2 div.sk-dashed-wrapped {border: 1px dashed gray;margin: 0 0.4em 0.5em 0.4em;box-sizing: border-box;padding-bottom: 0.4em;background-color: white;}#sk-container-id-2 div.sk-label label {font-family: monospace;font-weight: bold;display: inline-block;line-height: 1.2em;}#sk-container-id-2 div.sk-label-container {text-align: center;}#sk-container-id-2 div.sk-container {/* jupyter's `normalize.less` sets `[hidden] { display: none; }` but bootstrap.min.css set `[hidden] { display: none !important; }` so we also need the `!important` here to be able to override the default hidden behavior on the sphinx rendered scikit-learn.org. See: https://github.com/scikit-learn/scikit-learn/issues/21755 */display: inline-block !important;position: relative;}#sk-container-id-2 div.sk-text-repr-fallback {display: none;}</style><div id=\"sk-container-id-2\" class=\"sk-top-container\"><div class=\"sk-text-repr-fallback\"><pre>LogisticRegression()</pre><b>In a Jupyter environment, please rerun this cell to show the HTML representation or trust the notebook. <br />On GitHub, the HTML representation is unable to render, please try loading this page with nbviewer.org.</b></div><div class=\"sk-container\" hidden><div class=\"sk-item\"><div class=\"sk-estimator sk-toggleable\"><input class=\"sk-toggleable__control sk-hidden--visually\" id=\"sk-estimator-id-2\" type=\"checkbox\" checked><label for=\"sk-estimator-id-2\" class=\"sk-toggleable__label sk-toggleable__label-arrow\">LogisticRegression</label><div class=\"sk-toggleable__content\"><pre>LogisticRegression()</pre></div></div></div></div></div>"
      ],
      "text/plain": [
       "LogisticRegression()"
      ]
     },
     "execution_count": 28,
     "metadata": {},
     "output_type": "execute_result"
    }
   ],
   "source": [
    "# Your code here\n",
    "tf_idf_logreg_model = LogisticRegression()\n",
    "tf_idf_logreg_model.fit(tf_idf_features_dev, y_dev)"
   ]
  },
  {
   "cell_type": "markdown",
   "metadata": {
    "id": "MdFS6SWMlONK"
   },
   "source": [
    "2.5) Compare the performance of the two models on the test dataset using a classication\n",
    "report and the scores obtained. Explain the difference in results obtained."
   ]
  },
  {
   "cell_type": "code",
   "execution_count": 29,
   "metadata": {
    "colab": {
     "base_uri": "https://localhost:8080/"
    },
    "id": "o6gpOsp7lTJx",
    "outputId": "ab5518d2-1603-4a80-cf7b-bf527dbc07e9"
   },
   "outputs": [
    {
     "name": "stdout",
     "output_type": "stream",
     "text": [
      "\n",
      "Classification Report for Logistic Regression on Test Dataset Using Bag of Words\n",
      "              precision    recall  f1-score   support\n",
      "\n",
      "           0       0.84      0.84      0.84       200\n",
      "           1       0.84      0.83      0.84       200\n",
      "\n",
      "    accuracy                           0.84       400\n",
      "   macro avg       0.84      0.84      0.84       400\n",
      "weighted avg       0.84      0.84      0.84       400\n",
      "\n",
      "\n",
      "Classification Report for Logistic Regression on Test Dataset Using TF-IDF\n",
      "              precision    recall  f1-score   support\n",
      "\n",
      "           0       0.86      0.82      0.84       200\n",
      "           1       0.83      0.86      0.85       200\n",
      "\n",
      "    accuracy                           0.84       400\n",
      "   macro avg       0.84      0.84      0.84       400\n",
      "weighted avg       0.84      0.84      0.84       400\n",
      "\n"
     ]
    }
   ],
   "source": [
    "# Your code here\n",
    "# Predict on the test dataset\n",
    "test_predictions = bow_logreg_model.predict(bow_features_test)\n",
    "report = classification_report(y_test, test_predictions)\n",
    "print(f\"\\nClassification Report for Logistic Regression on Test Dataset Using Bag of Words\")\n",
    "print(report)\n",
    "\n",
    "test_predictions = tf_idf_logreg_model.predict(tf_idf_features_test)\n",
    "report = classification_report(y_test, test_predictions)\n",
    "print(f\"\\nClassification Report for Logistic Regression on Test Dataset Using TF-IDF\")\n",
    "print(report)"
   ]
  },
  {
   "cell_type": "markdown",
   "metadata": {
    "id": "ijujJJX0O7Ie"
   },
   "source": [
    "- Precision (Class 0):\n",
    "  - BoW: 84%\n",
    "  - TF-IDF: 86%\n",
    "  - TF-IDF has slightly higher precision for predicting instances of Class 0.\n",
    "- Recall (Class 0):\n",
    "  - BoW: 84%\n",
    "  - TF-IDF: 82%\n",
    "  - BoW has a slightly higher recall for instances of Class 0.\n",
    "- F1-Score (Class 0):\n",
    "  - BoW: 84%\n",
    "  - TF-IDF: 84%\n",
    "  - Both representations have the same F1-score for predicting instances of Class 0.\n",
    "- Precision (Class 1):\n",
    "  - BoW: 84%\n",
    "  - TF-IDF: 83%\n",
    "  - BoW has slightly higher precision for predicting instances of Class 1.\n",
    "- Recall (Class 1):\n",
    "  - BoW: 83%\n",
    "  - TF-IDF: 86%\n",
    "  - TF-IDF has higher recall for instances of Class 1.\n",
    "- F1-Score (Class 1):\n",
    "  - BoW: 84%\n",
    "  - TF-IDF: 85%\n",
    "  - Both representations have similar F1-scores for predicting instances of Class 1.\n",
    "- Accuracy:\n",
    "  - Both models have the same overall accuracy of 84%.\n",
    "\n",
    "Explanation:\n",
    "- The differences in results indicate that the two representations capture different aspects of the data due to\n",
    "  - Weighting Scheme:\n",
    "    - BoW: Represents text as a matrix of word frequencies in the document without considering the importance of words in the corpus.\n",
    "    - TF-IDF: Considers not only the frequency of a term in a document (TF) but also its importance in the entire corpus (IDF). Rare terms that are important in specific documents receive higher weights.\n",
    "  - Impact of Word Frequency:\n",
    "    - BoW: Treats all words equally, which may result in common words having a significant impact on the representation.\n",
    "    - TF-IDF: Down-weights the impact of common words that appear frequently across documents, focusing on terms that are discriminative for specific documents.\n",
    "  - Sensitivity to Rare Words:\n",
    "    - BoW: Might not be sensitive to rare words that could be crucial for distinguishing between classes.\n",
    "    - TF-IDF: Highlights the importance of rare words that might carry more discriminatory power."
   ]
  }
 ],
 "metadata": {
  "colab": {
   "provenance": []
  },
  "kernelspec": {
   "display_name": "Python 3 (ipykernel)",
   "language": "python",
   "name": "python3"
  },
  "language_info": {
   "codemirror_mode": {
    "name": "ipython",
    "version": 3
   },
   "file_extension": ".py",
   "mimetype": "text/x-python",
   "name": "python",
   "nbconvert_exporter": "python",
   "pygments_lexer": "ipython3",
   "version": "3.9.13"
  },
  "vscode": {
   "interpreter": {
    "hash": "3d478bda651dbca712eb3db1d8dcebab555b47173a28bac9378c8cb960b89182"
   }
  }
 },
 "nbformat": 4,
 "nbformat_minor": 1
}
